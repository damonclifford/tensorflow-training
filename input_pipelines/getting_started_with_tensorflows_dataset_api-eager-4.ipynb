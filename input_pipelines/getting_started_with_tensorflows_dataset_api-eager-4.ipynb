{
 "cells": [
  {
   "cell_type": "markdown",
   "metadata": {},
   "source": [
    "# Getting started with TensorFlow's `Dataset` API (continuation)\n",
    "\n",
    "In this notebook we will learn how to divide the dataset over the ranks in distributed training.\n",
    "\n",
    "The following steps were done on one of the previous notebooks. If necessary they can be run again on a new cell.\n",
    "```bash\n",
    "wget https://raw.githubusercontent.com/uiuc-cse/data-fa14/gh-pages/data/iris.csv\n",
    "echo \"sepal_length,sepal_width,petal_length,petal_width,species\" > iris_setosa.csv\n",
    "grep setosa iris.csv >> iris_setosa.csv\n",
    "echo \"sepal_length,sepal_width,petal_length,petal_width,species\" > iris_versic.csv\n",
    "grep versicolor iris.csv >> iris_versic.csv\n",
    "echo \"sepal_length,sepal_width,petal_length,petal_width,species\" > iris_virgin.csv\n",
    "grep virginica iris.csv >> iris_virgin.csv\n",
    "```"
   ]
  },
  {
   "cell_type": "code",
   "execution_count": 1,
   "metadata": {},
   "outputs": [],
   "source": [
    "import tensorflow as tf"
   ]
  },
  {
   "cell_type": "code",
   "execution_count": 2,
   "metadata": {},
   "outputs": [],
   "source": [
    "tf.enable_eager_execution()"
   ]
  },
  {
   "cell_type": "code",
   "execution_count": 3,
   "metadata": {},
   "outputs": [
    {
     "data": {
      "text/plain": [
       "'1.13.1'"
      ]
     },
     "execution_count": 3,
     "metadata": {},
     "output_type": "execute_result"
    }
   ],
   "source": [
    "tf.VERSION"
   ]
  },
  {
   "cell_type": "code",
   "execution_count": 4,
   "metadata": {},
   "outputs": [],
   "source": [
    "def parse_columns(*row, classes):\n",
    "    \"\"\"Convert the string classes to one-hot encoded:\n",
    "    setosa     -> [1, 0, 0]\n",
    "    virginica  -> [0, 1, 0]\n",
    "    versicolor -> [0, 0, 1]\n",
    "    \"\"\"\n",
    "    features = tf.convert_to_tensor(row[:4])\n",
    "    label_int = tf.where(tf.equal(classes, row[4]))\n",
    "    label = tf.one_hot(label_int, 3)\n",
    "    return features, label\n",
    "\n",
    "\n",
    "def get_csv_dataset(filename):\n",
    "    return tf.data.experimental.CsvDataset(filename, header=True,\n",
    "                                           record_defaults=[tf.float32,\n",
    "                                                            tf.float32,\n",
    "                                                            tf.float32,\n",
    "                                                            tf.float32,\n",
    "                                                            tf.string])"
   ]
  },
  {
   "cell_type": "markdown",
   "metadata": {},
   "source": [
    "## Using Shards <a id='using_shards'></a>\n",
    "\n",
    "\n",
    "Let's simulate a distributed training with two ranks to see what happens with the data on each worker. In distributed training one can use `tf.data.experimental.filter_for_shard` (This replaces the old `tf.data.Dataset.shard`) to divide the dataset over the ranks, otherwise the same data might be sent to each of the workers.\n",
    "\n",
    "Let's consider:\n",
    " * `tf.data.Dataset.list_files` with `shuffle=True`.\n",
    " * `tf.data.Dataset.list_files` with `shuffle=False`.\n",
    " * Shard before interleaving.\n",
    " * Shard after interleaving."
   ]
  },
  {
   "cell_type": "code",
   "execution_count": 5,
   "metadata": {},
   "outputs": [],
   "source": [
    "# Common for both ranks\n",
    "dataset = tf.data.Dataset.list_files(['iris_setosa.csv',\n",
    "                                      'iris_versic.csv'],\n",
    "                                      shuffle=True)"
   ]
  },
  {
   "cell_type": "code",
   "execution_count": 6,
   "metadata": {},
   "outputs": [
    {
     "name": "stdout",
     "output_type": "stream",
     "text": [
      "WARNING:tensorflow:From /home/sarafael/software/anaconda3.6/lib/python3.6/site-packages/tensorflow/python/data/ops/iterator_ops.py:532: colocate_with (from tensorflow.python.framework.ops) is deprecated and will be removed in a future version.\n",
      "Instructions for updating:\n",
      "Colocations handled automatically by placer.\n",
      "features: [5.1 3.5 1.4 0.2]  |  label: [[[1. 0. 0.]]]\n",
      "features: [4.9 3.  1.4 0.2]  |  label: [[[1. 0. 0.]]]\n",
      "features: [4.7 3.2 1.3 0.2]  |  label: [[[1. 0. 0.]]]\n",
      "features: [4.6 3.1 1.5 0.2]  |  label: [[[1. 0. 0.]]]\n",
      "features: [5.  3.6 1.4 0.2]  |  label: [[[1. 0. 0.]]]\n",
      "features: [5.4 3.9 1.7 0.4]  |  label: [[[1. 0. 0.]]]\n",
      "features: [4.6 3.4 1.4 0.3]  |  label: [[[1. 0. 0.]]]\n",
      "features: [5.  3.4 1.5 0.2]  |  label: [[[1. 0. 0.]]]\n",
      "features: [4.4 2.9 1.4 0.2]  |  label: [[[1. 0. 0.]]]\n",
      "features: [4.9 3.1 1.5 0.1]  |  label: [[[1. 0. 0.]]]\n",
      "features: [5.4 3.7 1.5 0.2]  |  label: [[[1. 0. 0.]]]\n",
      "features: [4.8 3.4 1.6 0.2]  |  label: [[[1. 0. 0.]]]\n",
      "features: [4.8 3.  1.4 0.1]  |  label: [[[1. 0. 0.]]]\n",
      "features: [4.3 3.  1.1 0.1]  |  label: [[[1. 0. 0.]]]\n",
      "features: [5.8 4.  1.2 0.2]  |  label: [[[1. 0. 0.]]]\n",
      "features: [5.7 4.4 1.5 0.4]  |  label: [[[1. 0. 0.]]]\n",
      "features: [5.4 3.9 1.3 0.4]  |  label: [[[1. 0. 0.]]]\n",
      "features: [5.1 3.5 1.4 0.3]  |  label: [[[1. 0. 0.]]]\n",
      "features: [5.7 3.8 1.7 0.3]  |  label: [[[1. 0. 0.]]]\n",
      "features: [5.1 3.8 1.5 0.3]  |  label: [[[1. 0. 0.]]]\n",
      "features: [5.4 3.4 1.7 0.2]  |  label: [[[1. 0. 0.]]]\n",
      "features: [5.1 3.7 1.5 0.4]  |  label: [[[1. 0. 0.]]]\n",
      "features: [4.6 3.6 1.  0.2]  |  label: [[[1. 0. 0.]]]\n",
      "features: [5.1 3.3 1.7 0.5]  |  label: [[[1. 0. 0.]]]\n",
      "features: [4.8 3.4 1.9 0.2]  |  label: [[[1. 0. 0.]]]\n",
      "features: [5.  3.  1.6 0.2]  |  label: [[[1. 0. 0.]]]\n",
      "features: [5.  3.4 1.6 0.4]  |  label: [[[1. 0. 0.]]]\n",
      "features: [5.2 3.5 1.5 0.2]  |  label: [[[1. 0. 0.]]]\n",
      "features: [5.2 3.4 1.4 0.2]  |  label: [[[1. 0. 0.]]]\n",
      "features: [4.7 3.2 1.6 0.2]  |  label: [[[1. 0. 0.]]]\n",
      "features: [4.8 3.1 1.6 0.2]  |  label: [[[1. 0. 0.]]]\n",
      "features: [5.4 3.4 1.5 0.4]  |  label: [[[1. 0. 0.]]]\n",
      "features: [5.2 4.1 1.5 0.1]  |  label: [[[1. 0. 0.]]]\n",
      "features: [5.5 4.2 1.4 0.2]  |  label: [[[1. 0. 0.]]]\n",
      "features: [4.9 3.1 1.5 0.1]  |  label: [[[1. 0. 0.]]]\n",
      "features: [5.  3.2 1.2 0.2]  |  label: [[[1. 0. 0.]]]\n",
      "features: [5.5 3.5 1.3 0.2]  |  label: [[[1. 0. 0.]]]\n",
      "features: [4.9 3.1 1.5 0.1]  |  label: [[[1. 0. 0.]]]\n",
      "features: [4.4 3.  1.3 0.2]  |  label: [[[1. 0. 0.]]]\n",
      "features: [5.1 3.4 1.5 0.2]  |  label: [[[1. 0. 0.]]]\n",
      "features: [5.  3.5 1.3 0.3]  |  label: [[[1. 0. 0.]]]\n",
      "features: [4.5 2.3 1.3 0.3]  |  label: [[[1. 0. 0.]]]\n",
      "features: [4.4 3.2 1.3 0.2]  |  label: [[[1. 0. 0.]]]\n",
      "features: [5.  3.5 1.6 0.6]  |  label: [[[1. 0. 0.]]]\n",
      "features: [5.1 3.8 1.9 0.4]  |  label: [[[1. 0. 0.]]]\n",
      "features: [4.8 3.  1.4 0.3]  |  label: [[[1. 0. 0.]]]\n",
      "features: [5.1 3.8 1.6 0.2]  |  label: [[[1. 0. 0.]]]\n",
      "features: [4.6 3.2 1.4 0.2]  |  label: [[[1. 0. 0.]]]\n",
      "features: [5.3 3.7 1.5 0.2]  |  label: [[[1. 0. 0.]]]\n",
      "features: [5.  3.3 1.4 0.2]  |  label: [[[1. 0. 0.]]]\n"
     ]
    }
   ],
   "source": [
    "# Rank 0\n",
    "dataset0 = dataset.apply(tf.data.experimental.filter_for_shard(2, 0))  # the old shard(hvd.size(), hvd.rank())\n",
    "dataset0 = dataset0.interleave(get_csv_dataset,\n",
    "                               cycle_length=2,\n",
    "                               block_length=1,\n",
    "                               num_parallel_calls=2)\n",
    "dataset0 = dataset0.map(lambda *row: parse_columns(*row, classes=['setosa', 'virginica', 'versicolor']))\n",
    "\n",
    "for features, label in dataset0:\n",
    "    print('features: %s  |  label: %s' % (features.numpy(), label.numpy()))"
   ]
  },
  {
   "cell_type": "code",
   "execution_count": 7,
   "metadata": {},
   "outputs": [
    {
     "name": "stdout",
     "output_type": "stream",
     "text": [
      "features: [5.1 3.5 1.4 0.2]  |  label: [[[1. 0. 0.]]]\n",
      "features: [4.9 3.  1.4 0.2]  |  label: [[[1. 0. 0.]]]\n",
      "features: [4.7 3.2 1.3 0.2]  |  label: [[[1. 0. 0.]]]\n",
      "features: [4.6 3.1 1.5 0.2]  |  label: [[[1. 0. 0.]]]\n",
      "features: [5.  3.6 1.4 0.2]  |  label: [[[1. 0. 0.]]]\n",
      "features: [5.4 3.9 1.7 0.4]  |  label: [[[1. 0. 0.]]]\n",
      "features: [4.6 3.4 1.4 0.3]  |  label: [[[1. 0. 0.]]]\n",
      "features: [5.  3.4 1.5 0.2]  |  label: [[[1. 0. 0.]]]\n",
      "features: [4.4 2.9 1.4 0.2]  |  label: [[[1. 0. 0.]]]\n",
      "features: [4.9 3.1 1.5 0.1]  |  label: [[[1. 0. 0.]]]\n",
      "features: [5.4 3.7 1.5 0.2]  |  label: [[[1. 0. 0.]]]\n",
      "features: [4.8 3.4 1.6 0.2]  |  label: [[[1. 0. 0.]]]\n",
      "features: [4.8 3.  1.4 0.1]  |  label: [[[1. 0. 0.]]]\n",
      "features: [4.3 3.  1.1 0.1]  |  label: [[[1. 0. 0.]]]\n",
      "features: [5.8 4.  1.2 0.2]  |  label: [[[1. 0. 0.]]]\n",
      "features: [5.7 4.4 1.5 0.4]  |  label: [[[1. 0. 0.]]]\n",
      "features: [5.4 3.9 1.3 0.4]  |  label: [[[1. 0. 0.]]]\n",
      "features: [5.1 3.5 1.4 0.3]  |  label: [[[1. 0. 0.]]]\n",
      "features: [5.7 3.8 1.7 0.3]  |  label: [[[1. 0. 0.]]]\n",
      "features: [5.1 3.8 1.5 0.3]  |  label: [[[1. 0. 0.]]]\n",
      "features: [5.4 3.4 1.7 0.2]  |  label: [[[1. 0. 0.]]]\n",
      "features: [5.1 3.7 1.5 0.4]  |  label: [[[1. 0. 0.]]]\n",
      "features: [4.6 3.6 1.  0.2]  |  label: [[[1. 0. 0.]]]\n",
      "features: [5.1 3.3 1.7 0.5]  |  label: [[[1. 0. 0.]]]\n",
      "features: [4.8 3.4 1.9 0.2]  |  label: [[[1. 0. 0.]]]\n",
      "features: [5.  3.  1.6 0.2]  |  label: [[[1. 0. 0.]]]\n",
      "features: [5.  3.4 1.6 0.4]  |  label: [[[1. 0. 0.]]]\n",
      "features: [5.2 3.5 1.5 0.2]  |  label: [[[1. 0. 0.]]]\n",
      "features: [5.2 3.4 1.4 0.2]  |  label: [[[1. 0. 0.]]]\n",
      "features: [4.7 3.2 1.6 0.2]  |  label: [[[1. 0. 0.]]]\n",
      "features: [4.8 3.1 1.6 0.2]  |  label: [[[1. 0. 0.]]]\n",
      "features: [5.4 3.4 1.5 0.4]  |  label: [[[1. 0. 0.]]]\n",
      "features: [5.2 4.1 1.5 0.1]  |  label: [[[1. 0. 0.]]]\n",
      "features: [5.5 4.2 1.4 0.2]  |  label: [[[1. 0. 0.]]]\n",
      "features: [4.9 3.1 1.5 0.1]  |  label: [[[1. 0. 0.]]]\n",
      "features: [5.  3.2 1.2 0.2]  |  label: [[[1. 0. 0.]]]\n",
      "features: [5.5 3.5 1.3 0.2]  |  label: [[[1. 0. 0.]]]\n",
      "features: [4.9 3.1 1.5 0.1]  |  label: [[[1. 0. 0.]]]\n",
      "features: [4.4 3.  1.3 0.2]  |  label: [[[1. 0. 0.]]]\n",
      "features: [5.1 3.4 1.5 0.2]  |  label: [[[1. 0. 0.]]]\n",
      "features: [5.  3.5 1.3 0.3]  |  label: [[[1. 0. 0.]]]\n",
      "features: [4.5 2.3 1.3 0.3]  |  label: [[[1. 0. 0.]]]\n",
      "features: [4.4 3.2 1.3 0.2]  |  label: [[[1. 0. 0.]]]\n",
      "features: [5.  3.5 1.6 0.6]  |  label: [[[1. 0. 0.]]]\n",
      "features: [5.1 3.8 1.9 0.4]  |  label: [[[1. 0. 0.]]]\n",
      "features: [4.8 3.  1.4 0.3]  |  label: [[[1. 0. 0.]]]\n",
      "features: [5.1 3.8 1.6 0.2]  |  label: [[[1. 0. 0.]]]\n",
      "features: [4.6 3.2 1.4 0.2]  |  label: [[[1. 0. 0.]]]\n",
      "features: [5.3 3.7 1.5 0.2]  |  label: [[[1. 0. 0.]]]\n",
      "features: [5.  3.3 1.4 0.2]  |  label: [[[1. 0. 0.]]]\n"
     ]
    }
   ],
   "source": [
    "# Rank 1\n",
    "dataset1 = dataset.apply(tf.data.experimental.filter_for_shard(2, 1))  # the old shard(hvd.size(), hvd.rank())\n",
    "dataset1 = dataset1.interleave(get_csv_dataset,\n",
    "                               cycle_length=2,\n",
    "                               block_length=1,\n",
    "                               num_parallel_calls=2)\n",
    "dataset1 = dataset1.map(lambda *row: parse_columns(*row, classes=['setosa', 'virginica', 'versicolor']))\n",
    "iterator1 = dataset1.make_one_shot_iterator()\n",
    "next_item1 = iterator1.get_next()\n",
    "\n",
    "for features, label in dataset1:\n",
    "    print('features: %s  |  label: %s' % (features.numpy(), label.numpy()))"
   ]
  }
 ],
 "metadata": {
  "kernelspec": {
   "display_name": "Python 3",
   "language": "python",
   "name": "python3"
  },
  "language_info": {
   "codemirror_mode": {
    "name": "ipython",
    "version": 3
   },
   "file_extension": ".py",
   "mimetype": "text/x-python",
   "name": "python",
   "nbconvert_exporter": "python",
   "pygments_lexer": "ipython3",
   "version": "3.6.2"
  }
 },
 "nbformat": 4,
 "nbformat_minor": 2
}
